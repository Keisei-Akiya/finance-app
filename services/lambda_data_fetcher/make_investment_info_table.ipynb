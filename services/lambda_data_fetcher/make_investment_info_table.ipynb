{
 "cells": [
  {
   "cell_type": "markdown",
   "metadata": {},
   "source": [
    "investment_info を作成する"
   ]
  },
  {
   "cell_type": "code",
   "execution_count": 1,
   "metadata": {},
   "outputs": [],
   "source": [
    "import polars as pl\n",
    "import uuid"
   ]
  },
  {
   "cell_type": "code",
   "execution_count": 5,
   "metadata": {},
   "outputs": [
    {
     "name": "stderr",
     "output_type": "stream",
     "text": [
      "Could not determine dtype for column 0, falling back to string\n"
     ]
    },
    {
     "data": {
      "text/html": [
       "<div><style>\n",
       ".dataframe > thead > tr,\n",
       ".dataframe > tbody > tr {\n",
       "  text-align: right;\n",
       "  white-space: pre-wrap;\n",
       "}\n",
       "</style>\n",
       "<small>shape: (5, 6)</small><table border=\"1\" class=\"dataframe\"><thead><tr><th>investment_code</th><th>ticker_symbol</th><th>investment_name</th><th>inception_date</th><th>asset_class</th><th>country_code</th></tr><tr><td>str</td><td>str</td><td>str</td><td>date</td><td>str</td><td>str</td></tr></thead><tbody><tr><td>null</td><td>&quot;1490.T&quot;</td><td>&quot;上場インデックスファンドMSCI日本株高配当低ボラティリティ…</td><td>2017-03-13</td><td>&quot;Alternatives&quot;</td><td>&quot;JP&quot;</td></tr><tr><td>null</td><td>&quot;1499.T&quot;</td><td>&quot;ＭＡＸＩＳ日本株高配当70マーケットニュートラル上場投信&quot;</td><td>2017-12-13</td><td>&quot;Alternatives&quot;</td><td>&quot;JP&quot;</td></tr><tr><td>null</td><td>&quot;2858.T&quot;</td><td>&quot;グローバルＸ 日経225 カバード・コール ETF（プレミア…</td><td>2022-07-29</td><td>&quot;Alternatives&quot;</td><td>&quot;JP&quot;</td></tr><tr><td>null</td><td>&quot;2865.T&quot;</td><td>&quot;グローバルＸ NASDAQ100・カバード・コール ETF&quot;</td><td>2022-09-30</td><td>&quot;Alternatives&quot;</td><td>&quot;JP&quot;</td></tr><tr><td>null</td><td>&quot;2868.T&quot;</td><td>&quot;グローバルＸ S&amp;P500・カバード・コール ETF&quot;</td><td>2022-11-08</td><td>&quot;Alternatives&quot;</td><td>&quot;JP&quot;</td></tr></tbody></table></div>"
      ],
      "text/plain": [
       "shape: (5, 6)\n",
       "┌─────────────────┬───────────────┬─────────────────┬────────────────┬──────────────┬──────────────┐\n",
       "│ investment_code ┆ ticker_symbol ┆ investment_name ┆ inception_date ┆ asset_class  ┆ country_code │\n",
       "│ ---             ┆ ---           ┆ ---             ┆ ---            ┆ ---          ┆ ---          │\n",
       "│ str             ┆ str           ┆ str             ┆ date           ┆ str          ┆ str          │\n",
       "╞═════════════════╪═══════════════╪═════════════════╪════════════════╪══════════════╪══════════════╡\n",
       "│ null            ┆ 1490.T        ┆ 上場インデック  ┆ 2017-03-13     ┆ Alternatives ┆ JP           │\n",
       "│                 ┆               ┆ スファンドMSCI  ┆                ┆              ┆              │\n",
       "│                 ┆               ┆ 日本株高配当低  ┆                ┆              ┆              │\n",
       "│                 ┆               ┆ ボラティリティ… ┆                ┆              ┆              │\n",
       "│ null            ┆ 1499.T        ┆ ＭＡＸＩＳ日本  ┆ 2017-12-13     ┆ Alternatives ┆ JP           │\n",
       "│                 ┆               ┆ 株高配当70マー  ┆                ┆              ┆              │\n",
       "│                 ┆               ┆ ケットニュート  ┆                ┆              ┆              │\n",
       "│                 ┆               ┆ ラル上場投信    ┆                ┆              ┆              │\n",
       "│ null            ┆ 2858.T        ┆ グローバルＸ    ┆ 2022-07-29     ┆ Alternatives ┆ JP           │\n",
       "│                 ┆               ┆ 日経225 カバー  ┆                ┆              ┆              │\n",
       "│                 ┆               ┆ ド・コール      ┆                ┆              ┆              │\n",
       "│                 ┆               ┆ ETF（プレミア…  ┆                ┆              ┆              │\n",
       "│ null            ┆ 2865.T        ┆ グローバルＸ    ┆ 2022-09-30     ┆ Alternatives ┆ JP           │\n",
       "│                 ┆               ┆ NASDAQ100・カバ ┆                ┆              ┆              │\n",
       "│                 ┆               ┆ ード・コール    ┆                ┆              ┆              │\n",
       "│                 ┆               ┆ ETF             ┆                ┆              ┆              │\n",
       "│ null            ┆ 2868.T        ┆ グローバルＸ    ┆ 2022-11-08     ┆ Alternatives ┆ JP           │\n",
       "│                 ┆               ┆ S&P500・カバー  ┆                ┆              ┆              │\n",
       "│                 ┆               ┆ ド・コール ETF  ┆                ┆              ┆              │\n",
       "└─────────────────┴───────────────┴─────────────────┴────────────────┴──────────────┴──────────────┘"
      ]
     },
     "execution_count": 5,
     "metadata": {},
     "output_type": "execute_result"
    }
   ],
   "source": [
    "file_path = '../../data/investment_info.xlsx'\n",
    "df = pl.read_excel(file_path)\n",
    "df = df.with_columns(pl.col('inception_date').cast(pl.Date))\n",
    "df.head()\n"
   ]
  },
  {
   "cell_type": "markdown",
   "metadata": {},
   "source": [
    "## UUID"
   ]
  },
  {
   "cell_type": "code",
   "execution_count": 6,
   "metadata": {},
   "outputs": [
    {
     "name": "stdout",
     "output_type": "stream",
     "text": [
      "重複数: 0\n"
     ]
    },
    {
     "data": {
      "text/html": [
       "<div><style>\n",
       ".dataframe > thead > tr,\n",
       ".dataframe > tbody > tr {\n",
       "  text-align: right;\n",
       "  white-space: pre-wrap;\n",
       "}\n",
       "</style>\n",
       "<small>shape: (5, 6)</small><table border=\"1\" class=\"dataframe\"><thead><tr><th>investment_code</th><th>ticker_symbol</th><th>investment_name</th><th>inception_date</th><th>asset_class</th><th>country_code</th></tr><tr><td>str</td><td>str</td><td>str</td><td>date</td><td>str</td><td>str</td></tr></thead><tbody><tr><td>&quot;b3eee5db-6460-4b2b-912c-558e86…</td><td>&quot;1490.T&quot;</td><td>&quot;上場インデックスファンドMSCI日本株高配当低ボラティリティ…</td><td>2017-03-13</td><td>&quot;Alternatives&quot;</td><td>&quot;JP&quot;</td></tr><tr><td>&quot;221da357-97d6-414f-918f-52ecec…</td><td>&quot;1499.T&quot;</td><td>&quot;ＭＡＸＩＳ日本株高配当70マーケットニュートラル上場投信&quot;</td><td>2017-12-13</td><td>&quot;Alternatives&quot;</td><td>&quot;JP&quot;</td></tr><tr><td>&quot;d4f2f7e7-56f4-4057-aa44-e9773f…</td><td>&quot;2858.T&quot;</td><td>&quot;グローバルＸ 日経225 カバード・コール ETF（プレミア…</td><td>2022-07-29</td><td>&quot;Alternatives&quot;</td><td>&quot;JP&quot;</td></tr><tr><td>&quot;ea0c42ea-a8ae-474c-9636-1c92d6…</td><td>&quot;2865.T&quot;</td><td>&quot;グローバルＸ NASDAQ100・カバード・コール ETF&quot;</td><td>2022-09-30</td><td>&quot;Alternatives&quot;</td><td>&quot;JP&quot;</td></tr><tr><td>&quot;49204fe4-14d1-48bb-9f51-2aaaa5…</td><td>&quot;2868.T&quot;</td><td>&quot;グローバルＸ S&amp;P500・カバード・コール ETF&quot;</td><td>2022-11-08</td><td>&quot;Alternatives&quot;</td><td>&quot;JP&quot;</td></tr></tbody></table></div>"
      ],
      "text/plain": [
       "shape: (5, 6)\n",
       "┌─────────────────┬───────────────┬─────────────────┬────────────────┬──────────────┬──────────────┐\n",
       "│ investment_code ┆ ticker_symbol ┆ investment_name ┆ inception_date ┆ asset_class  ┆ country_code │\n",
       "│ ---             ┆ ---           ┆ ---             ┆ ---            ┆ ---          ┆ ---          │\n",
       "│ str             ┆ str           ┆ str             ┆ date           ┆ str          ┆ str          │\n",
       "╞═════════════════╪═══════════════╪═════════════════╪════════════════╪══════════════╪══════════════╡\n",
       "│ b3eee5db-6460-4 ┆ 1490.T        ┆ 上場インデック  ┆ 2017-03-13     ┆ Alternatives ┆ JP           │\n",
       "│ b2b-912c-558e86 ┆               ┆ スファンドMSCI  ┆                ┆              ┆              │\n",
       "│ …               ┆               ┆ 日本株高配当低  ┆                ┆              ┆              │\n",
       "│                 ┆               ┆ ボラティリティ… ┆                ┆              ┆              │\n",
       "│ 221da357-97d6-4 ┆ 1499.T        ┆ ＭＡＸＩＳ日本  ┆ 2017-12-13     ┆ Alternatives ┆ JP           │\n",
       "│ 14f-918f-52ecec ┆               ┆ 株高配当70マー  ┆                ┆              ┆              │\n",
       "│ …               ┆               ┆ ケットニュート  ┆                ┆              ┆              │\n",
       "│                 ┆               ┆ ラル上場投信    ┆                ┆              ┆              │\n",
       "│ d4f2f7e7-56f4-4 ┆ 2858.T        ┆ グローバルＸ    ┆ 2022-07-29     ┆ Alternatives ┆ JP           │\n",
       "│ 057-aa44-e9773f ┆               ┆ 日経225 カバー  ┆                ┆              ┆              │\n",
       "│ …               ┆               ┆ ド・コール      ┆                ┆              ┆              │\n",
       "│                 ┆               ┆ ETF（プレミア…  ┆                ┆              ┆              │\n",
       "│ ea0c42ea-a8ae-4 ┆ 2865.T        ┆ グローバルＸ    ┆ 2022-09-30     ┆ Alternatives ┆ JP           │\n",
       "│ 74c-9636-1c92d6 ┆               ┆ NASDAQ100・カバ ┆                ┆              ┆              │\n",
       "│ …               ┆               ┆ ード・コール    ┆                ┆              ┆              │\n",
       "│                 ┆               ┆ ETF             ┆                ┆              ┆              │\n",
       "│ 49204fe4-14d1-4 ┆ 2868.T        ┆ グローバルＸ    ┆ 2022-11-08     ┆ Alternatives ┆ JP           │\n",
       "│ 8bb-9f51-2aaaa5 ┆               ┆ S&P500・カバー  ┆                ┆              ┆              │\n",
       "│ …               ┆               ┆ ド・コール ETF  ┆                ┆              ┆              │\n",
       "└─────────────────┴───────────────┴─────────────────┴────────────────┴──────────────┴──────────────┘"
      ]
     },
     "execution_count": 6,
     "metadata": {},
     "output_type": "execute_result"
    }
   ],
   "source": [
    "n_gen = df['investment_code'].len()\n",
    "\n",
    "investment_code_list = [str(uuid.uuid4()) for _ in range(n_gen)]\n",
    "\n",
    "df = (\n",
    "    df\n",
    "    .with_columns(\n",
    "        pl.Series(investment_code_list).alias('investment_code')\n",
    "    )\n",
    ")\n",
    "\n",
    "# 重複チェック\n",
    "n_duplicates = len(df.filter(pl.col('investment_code').is_duplicated()))\n",
    "print(f\"重複数: {n_duplicates}\")\n",
    "\n",
    "df.head()"
   ]
  },
  {
   "cell_type": "code",
   "execution_count": 7,
   "metadata": {},
   "outputs": [],
   "source": [
    "df.write_csv('../../data/investment_info.csv')"
   ]
  }
 ],
 "metadata": {
  "kernelspec": {
   "display_name": ".venv",
   "language": "python",
   "name": "python3"
  },
  "language_info": {
   "codemirror_mode": {
    "name": "ipython",
    "version": 3
   },
   "file_extension": ".py",
   "mimetype": "text/x-python",
   "name": "python",
   "nbconvert_exporter": "python",
   "pygments_lexer": "ipython3",
   "version": "3.13.2"
  }
 },
 "nbformat": 4,
 "nbformat_minor": 2
}
