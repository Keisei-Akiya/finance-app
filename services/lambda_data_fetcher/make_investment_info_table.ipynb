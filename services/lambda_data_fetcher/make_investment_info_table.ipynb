{
 "cells": [
  {
   "cell_type": "markdown",
   "metadata": {},
   "source": [
    "investment_info を作成する"
   ]
  },
  {
   "cell_type": "code",
   "execution_count": 1,
   "metadata": {},
   "outputs": [],
   "source": [
    "import polars as pl\n",
    "import uuid"
   ]
  },
  {
   "cell_type": "code",
   "execution_count": 2,
   "metadata": {},
   "outputs": [
    {
     "name": "stderr",
     "output_type": "stream",
     "text": [
      "Could not determine dtype for column 0, falling back to string\n"
     ]
    },
    {
     "data": {
      "text/html": [
       "<div><style>\n",
       ".dataframe > thead > tr,\n",
       ".dataframe > tbody > tr {\n",
       "  text-align: right;\n",
       "  white-space: pre-wrap;\n",
       "}\n",
       "</style>\n",
       "<small>shape: (5, 7)</small><table border=\"1\" class=\"dataframe\"><thead><tr><th>investment_code</th><th>ticker_symbol</th><th>investment_name</th><th>inception_date</th><th>asset_class</th><th>country_code</th><th>currency_code</th></tr><tr><td>str</td><td>str</td><td>str</td><td>date</td><td>str</td><td>str</td><td>str</td></tr></thead><tbody><tr><td>null</td><td>&quot;1349.T&quot;</td><td>&quot;ＡＢＦ汎アジア債券インデックス・ファンド&quot;</td><td>2009-06-19</td><td>&quot;Bond&quot;</td><td>&quot;JP&quot;</td><td>&quot;JPY&quot;</td></tr><tr><td>null</td><td>&quot;1677.T&quot;</td><td>&quot;上場インデックスファンド海外債券（FTSE WGBI）毎月分…</td><td>2009-09-30</td><td>&quot;Bond&quot;</td><td>&quot;JP&quot;</td><td>&quot;JPY&quot;</td></tr><tr><td>null</td><td>&quot;1566.T&quot;</td><td>&quot;上場インデックスファンド新興国債券&quot;</td><td>2012-03-30</td><td>&quot;Bond&quot;</td><td>&quot;JP&quot;</td><td>&quot;JPY&quot;</td></tr><tr><td>null</td><td>&quot;1482.T&quot;</td><td>&quot;iシェアーズ・コア　米国債7-10年 ETF（為替ヘッジあり…</td><td>2016-05-27</td><td>&quot;Bond&quot;</td><td>&quot;JP&quot;</td><td>&quot;JPY&quot;</td></tr><tr><td>null</td><td>&quot;1486.T&quot;</td><td>&quot;上場インデックスファンド米国債券（為替ヘッジなし）&quot;</td><td>2016-08-31</td><td>&quot;Bond&quot;</td><td>&quot;JP&quot;</td><td>&quot;JPY&quot;</td></tr></tbody></table></div>"
      ],
      "text/plain": [
       "shape: (5, 7)\n",
       "┌──────────────┬─────────────┬─────────────┬─────────────┬─────────────┬─────────────┬─────────────┐\n",
       "│ investment_c ┆ ticker_symb ┆ investment_ ┆ inception_d ┆ asset_class ┆ country_cod ┆ currency_co │\n",
       "│ ode          ┆ ol          ┆ name        ┆ ate         ┆ ---         ┆ e           ┆ de          │\n",
       "│ ---          ┆ ---         ┆ ---         ┆ ---         ┆ str         ┆ ---         ┆ ---         │\n",
       "│ str          ┆ str         ┆ str         ┆ date        ┆             ┆ str         ┆ str         │\n",
       "╞══════════════╪═════════════╪═════════════╪═════════════╪═════════════╪═════════════╪═════════════╡\n",
       "│ null         ┆ 1349.T      ┆ ＡＢＦ汎ア  ┆ 2009-06-19  ┆ Bond        ┆ JP          ┆ JPY         │\n",
       "│              ┆             ┆ ジア債券イ  ┆             ┆             ┆             ┆             │\n",
       "│              ┆             ┆ ンデックス  ┆             ┆             ┆             ┆             │\n",
       "│              ┆             ┆ ・ファンド  ┆             ┆             ┆             ┆             │\n",
       "│ null         ┆ 1677.T      ┆ 上場インデ  ┆ 2009-09-30  ┆ Bond        ┆ JP          ┆ JPY         │\n",
       "│              ┆             ┆ ックスファ  ┆             ┆             ┆             ┆             │\n",
       "│              ┆             ┆ ンド海外債  ┆             ┆             ┆             ┆             │\n",
       "│              ┆             ┆ 券（FTSE    ┆             ┆             ┆             ┆             │\n",
       "│              ┆             ┆ WGBI）毎月  ┆             ┆             ┆             ┆             │\n",
       "│              ┆             ┆ 分…         ┆             ┆             ┆             ┆             │\n",
       "│ null         ┆ 1566.T      ┆ 上場インデ  ┆ 2012-03-30  ┆ Bond        ┆ JP          ┆ JPY         │\n",
       "│              ┆             ┆ ックスファ  ┆             ┆             ┆             ┆             │\n",
       "│              ┆             ┆ ンド新興国  ┆             ┆             ┆             ┆             │\n",
       "│              ┆             ┆ 債券        ┆             ┆             ┆             ┆             │\n",
       "│ null         ┆ 1482.T      ┆ iシェアーズ ┆ 2016-05-27  ┆ Bond        ┆ JP          ┆ JPY         │\n",
       "│              ┆             ┆ ・コア　米  ┆             ┆             ┆             ┆             │\n",
       "│              ┆             ┆ 国債7-10年  ┆             ┆             ┆             ┆             │\n",
       "│              ┆             ┆ ETF（為替ヘ ┆             ┆             ┆             ┆             │\n",
       "│              ┆             ┆ ッジあり…   ┆             ┆             ┆             ┆             │\n",
       "│ null         ┆ 1486.T      ┆ 上場インデ  ┆ 2016-08-31  ┆ Bond        ┆ JP          ┆ JPY         │\n",
       "│              ┆             ┆ ックスファ  ┆             ┆             ┆             ┆             │\n",
       "│              ┆             ┆ ンド米国債  ┆             ┆             ┆             ┆             │\n",
       "│              ┆             ┆ 券（為替ヘ  ┆             ┆             ┆             ┆             │\n",
       "│              ┆             ┆ ッジなし）  ┆             ┆             ┆             ┆             │\n",
       "└──────────────┴─────────────┴─────────────┴─────────────┴─────────────┴─────────────┴─────────────┘"
      ]
     },
     "execution_count": 2,
     "metadata": {},
     "output_type": "execute_result"
    }
   ],
   "source": [
    "file_path = '../../data/investment_info.xlsx'\n",
    "df = pl.read_excel(file_path)\n",
    "df = df.with_columns(pl.col('inception_date').cast(pl.Date))\n",
    "df.head()\n"
   ]
  },
  {
   "cell_type": "markdown",
   "metadata": {},
   "source": [
    "## UUID"
   ]
  },
  {
   "cell_type": "code",
   "execution_count": 3,
   "metadata": {},
   "outputs": [
    {
     "name": "stdout",
     "output_type": "stream",
     "text": [
      "重複数: 0\n"
     ]
    },
    {
     "data": {
      "text/html": [
       "<div><style>\n",
       ".dataframe > thead > tr,\n",
       ".dataframe > tbody > tr {\n",
       "  text-align: right;\n",
       "  white-space: pre-wrap;\n",
       "}\n",
       "</style>\n",
       "<small>shape: (5, 7)</small><table border=\"1\" class=\"dataframe\"><thead><tr><th>investment_code</th><th>ticker_symbol</th><th>investment_name</th><th>inception_date</th><th>asset_class</th><th>country_code</th><th>currency_code</th></tr><tr><td>str</td><td>str</td><td>str</td><td>date</td><td>str</td><td>str</td><td>str</td></tr></thead><tbody><tr><td>&quot;2c32c02f-f3c6-4668-be33-706c08…</td><td>&quot;1349.T&quot;</td><td>&quot;ＡＢＦ汎アジア債券インデックス・ファンド&quot;</td><td>2009-06-19</td><td>&quot;Bond&quot;</td><td>&quot;JP&quot;</td><td>&quot;JPY&quot;</td></tr><tr><td>&quot;41a73763-2456-4bd3-9779-50aaa3…</td><td>&quot;1677.T&quot;</td><td>&quot;上場インデックスファンド海外債券（FTSE WGBI）毎月分…</td><td>2009-09-30</td><td>&quot;Bond&quot;</td><td>&quot;JP&quot;</td><td>&quot;JPY&quot;</td></tr><tr><td>&quot;d2fbd337-a888-424d-9cec-322e99…</td><td>&quot;1566.T&quot;</td><td>&quot;上場インデックスファンド新興国債券&quot;</td><td>2012-03-30</td><td>&quot;Bond&quot;</td><td>&quot;JP&quot;</td><td>&quot;JPY&quot;</td></tr><tr><td>&quot;45775562-4dba-4b5c-bfb1-ab6355…</td><td>&quot;1482.T&quot;</td><td>&quot;iシェアーズ・コア　米国債7-10年 ETF（為替ヘッジあり…</td><td>2016-05-27</td><td>&quot;Bond&quot;</td><td>&quot;JP&quot;</td><td>&quot;JPY&quot;</td></tr><tr><td>&quot;be1824b3-e7a6-45b1-b2da-c0256c…</td><td>&quot;1486.T&quot;</td><td>&quot;上場インデックスファンド米国債券（為替ヘッジなし）&quot;</td><td>2016-08-31</td><td>&quot;Bond&quot;</td><td>&quot;JP&quot;</td><td>&quot;JPY&quot;</td></tr></tbody></table></div>"
      ],
      "text/plain": [
       "shape: (5, 7)\n",
       "┌──────────────┬─────────────┬─────────────┬─────────────┬─────────────┬─────────────┬─────────────┐\n",
       "│ investment_c ┆ ticker_symb ┆ investment_ ┆ inception_d ┆ asset_class ┆ country_cod ┆ currency_co │\n",
       "│ ode          ┆ ol          ┆ name        ┆ ate         ┆ ---         ┆ e           ┆ de          │\n",
       "│ ---          ┆ ---         ┆ ---         ┆ ---         ┆ str         ┆ ---         ┆ ---         │\n",
       "│ str          ┆ str         ┆ str         ┆ date        ┆             ┆ str         ┆ str         │\n",
       "╞══════════════╪═════════════╪═════════════╪═════════════╪═════════════╪═════════════╪═════════════╡\n",
       "│ 2c32c02f-f3c ┆ 1349.T      ┆ ＡＢＦ汎ア  ┆ 2009-06-19  ┆ Bond        ┆ JP          ┆ JPY         │\n",
       "│ 6-4668-be33- ┆             ┆ ジア債券イ  ┆             ┆             ┆             ┆             │\n",
       "│ 706c08…      ┆             ┆ ンデックス  ┆             ┆             ┆             ┆             │\n",
       "│              ┆             ┆ ・ファンド  ┆             ┆             ┆             ┆             │\n",
       "│ 41a73763-245 ┆ 1677.T      ┆ 上場インデ  ┆ 2009-09-30  ┆ Bond        ┆ JP          ┆ JPY         │\n",
       "│ 6-4bd3-9779- ┆             ┆ ックスファ  ┆             ┆             ┆             ┆             │\n",
       "│ 50aaa3…      ┆             ┆ ンド海外債  ┆             ┆             ┆             ┆             │\n",
       "│              ┆             ┆ 券（FTSE    ┆             ┆             ┆             ┆             │\n",
       "│              ┆             ┆ WGBI）毎月  ┆             ┆             ┆             ┆             │\n",
       "│              ┆             ┆ 分…         ┆             ┆             ┆             ┆             │\n",
       "│ d2fbd337-a88 ┆ 1566.T      ┆ 上場インデ  ┆ 2012-03-30  ┆ Bond        ┆ JP          ┆ JPY         │\n",
       "│ 8-424d-9cec- ┆             ┆ ックスファ  ┆             ┆             ┆             ┆             │\n",
       "│ 322e99…      ┆             ┆ ンド新興国  ┆             ┆             ┆             ┆             │\n",
       "│              ┆             ┆ 債券        ┆             ┆             ┆             ┆             │\n",
       "│ 45775562-4db ┆ 1482.T      ┆ iシェアーズ ┆ 2016-05-27  ┆ Bond        ┆ JP          ┆ JPY         │\n",
       "│ a-4b5c-bfb1- ┆             ┆ ・コア　米  ┆             ┆             ┆             ┆             │\n",
       "│ ab6355…      ┆             ┆ 国債7-10年  ┆             ┆             ┆             ┆             │\n",
       "│              ┆             ┆ ETF（為替ヘ ┆             ┆             ┆             ┆             │\n",
       "│              ┆             ┆ ッジあり…   ┆             ┆             ┆             ┆             │\n",
       "│ be1824b3-e7a ┆ 1486.T      ┆ 上場インデ  ┆ 2016-08-31  ┆ Bond        ┆ JP          ┆ JPY         │\n",
       "│ 6-45b1-b2da- ┆             ┆ ックスファ  ┆             ┆             ┆             ┆             │\n",
       "│ c0256c…      ┆             ┆ ンド米国債  ┆             ┆             ┆             ┆             │\n",
       "│              ┆             ┆ 券（為替ヘ  ┆             ┆             ┆             ┆             │\n",
       "│              ┆             ┆ ッジなし）  ┆             ┆             ┆             ┆             │\n",
       "└──────────────┴─────────────┴─────────────┴─────────────┴─────────────┴─────────────┴─────────────┘"
      ]
     },
     "execution_count": 3,
     "metadata": {},
     "output_type": "execute_result"
    }
   ],
   "source": [
    "n_gen = df['investment_code'].len()\n",
    "\n",
    "investment_code_list = [str(uuid.uuid4()) for _ in range(n_gen)]\n",
    "\n",
    "df = (\n",
    "    df\n",
    "    .with_columns(\n",
    "        pl.Series(investment_code_list).alias('investment_code')\n",
    "    )\n",
    ")\n",
    "\n",
    "# 重複チェック\n",
    "n_duplicates = len(df.filter(pl.col('investment_code').is_duplicated()))\n",
    "print(f\"重複数: {n_duplicates}\")\n",
    "\n",
    "df.head()"
   ]
  },
  {
   "cell_type": "code",
   "execution_count": 4,
   "metadata": {},
   "outputs": [],
   "source": [
    "df.write_csv('../../data/investment_info.csv')"
   ]
  }
 ],
 "metadata": {
  "kernelspec": {
   "display_name": ".venv",
   "language": "python",
   "name": "python3"
  },
  "language_info": {
   "codemirror_mode": {
    "name": "ipython",
    "version": 3
   },
   "file_extension": ".py",
   "mimetype": "text/x-python",
   "name": "python",
   "nbconvert_exporter": "python",
   "pygments_lexer": "ipython3",
   "version": "3.13.2"
  }
 },
 "nbformat": 4,
 "nbformat_minor": 2
}
