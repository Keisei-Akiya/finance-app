{
 "cells": [
  {
   "cell_type": "markdown",
   "metadata": {},
   "source": [
    "investment_info を作成する"
   ]
  },
  {
   "cell_type": "code",
   "execution_count": null,
   "metadata": {},
   "outputs": [],
   "source": [
    "import polars as pl\n",
    "import uuid"
   ]
  },
  {
   "cell_type": "code",
   "execution_count": 35,
   "metadata": {},
   "outputs": [
    {
     "data": {
      "text/html": [
       "<div><style>\n",
       ".dataframe > thead > tr,\n",
       ".dataframe > tbody > tr {\n",
       "  text-align: right;\n",
       "  white-space: pre-wrap;\n",
       "}\n",
       "</style>\n",
       "<small>shape: (5, 6)</small><table border=\"1\" class=\"dataframe\"><thead><tr><th>investment_code</th><th>ticker_symbol</th><th>investment_name</th><th>inception_date</th><th>asset_class</th><th>country_code</th></tr><tr><td>str</td><td>str</td><td>str</td><td>str</td><td>str</td><td>str</td></tr></thead><tbody><tr><td>null</td><td>&quot;AAVX&quot;</td><td>&quot;ETRACS Daily Short 1-Month S&amp;P…</td><td>&quot;9/8/2011&quot;</td><td>&quot;Alternatives&quot;</td><td>&quot;US&quot;</td></tr><tr><td>null</td><td>&quot;AGLS&quot;</td><td>&quot;Accuvest Global Long Short ETF&quot;</td><td>&quot;7/9/2010&quot;</td><td>&quot;Alternatives&quot;</td><td>&quot;US&quot;</td></tr><tr><td>null</td><td>&quot;ALFA&quot;</td><td>&quot;AlphaClone Alternative Alpha E…</td><td>&quot;5/31/2012&quot;</td><td>&quot;Alternatives&quot;</td><td>&quot;US&quot;</td></tr><tr><td>null</td><td>&quot;ALT&quot;</td><td>&quot;Diversified Alternatives Trust&quot;</td><td>&quot;10/6/2009&quot;</td><td>&quot;Alternatives&quot;</td><td>&quot;US&quot;</td></tr><tr><td>null</td><td>&quot;BBVX&quot;</td><td>&quot;ETRACS Daily Short 2-Month S&amp;P…</td><td>&quot;9/8/2011&quot;</td><td>&quot;Alternatives&quot;</td><td>&quot;US&quot;</td></tr></tbody></table></div>"
      ],
      "text/plain": [
       "shape: (5, 6)\n",
       "┌─────────────────┬───────────────┬─────────────────┬────────────────┬──────────────┬──────────────┐\n",
       "│ investment_code ┆ ticker_symbol ┆ investment_name ┆ inception_date ┆ asset_class  ┆ country_code │\n",
       "│ ---             ┆ ---           ┆ ---             ┆ ---            ┆ ---          ┆ ---          │\n",
       "│ str             ┆ str           ┆ str             ┆ str            ┆ str          ┆ str          │\n",
       "╞═════════════════╪═══════════════╪═════════════════╪════════════════╪══════════════╪══════════════╡\n",
       "│ null            ┆ AAVX          ┆ ETRACS Daily    ┆ 9/8/2011       ┆ Alternatives ┆ US           │\n",
       "│                 ┆               ┆ Short 1-Month   ┆                ┆              ┆              │\n",
       "│                 ┆               ┆ S&P…            ┆                ┆              ┆              │\n",
       "│ null            ┆ AGLS          ┆ Accuvest Global ┆ 7/9/2010       ┆ Alternatives ┆ US           │\n",
       "│                 ┆               ┆ Long Short ETF  ┆                ┆              ┆              │\n",
       "│ null            ┆ ALFA          ┆ AlphaClone      ┆ 5/31/2012      ┆ Alternatives ┆ US           │\n",
       "│                 ┆               ┆ Alternative     ┆                ┆              ┆              │\n",
       "│                 ┆               ┆ Alpha E…        ┆                ┆              ┆              │\n",
       "│ null            ┆ ALT           ┆ Diversified     ┆ 10/6/2009      ┆ Alternatives ┆ US           │\n",
       "│                 ┆               ┆ Alternatives    ┆                ┆              ┆              │\n",
       "│                 ┆               ┆ Trust           ┆                ┆              ┆              │\n",
       "│ null            ┆ BBVX          ┆ ETRACS Daily    ┆ 9/8/2011       ┆ Alternatives ┆ US           │\n",
       "│                 ┆               ┆ Short 2-Month   ┆                ┆              ┆              │\n",
       "│                 ┆               ┆ S&P…            ┆                ┆              ┆              │\n",
       "└─────────────────┴───────────────┴─────────────────┴────────────────┴──────────────┴──────────────┘"
      ]
     },
     "execution_count": 35,
     "metadata": {},
     "output_type": "execute_result"
    }
   ],
   "source": [
    "file_path = '../../data/investment_info.csv'\n",
    "df = pl.read_csv(file_path)\n",
    "df.head()"
   ]
  },
  {
   "cell_type": "code",
   "execution_count": 36,
   "metadata": {},
   "outputs": [
    {
     "data": {
      "text/html": [
       "<div><style>\n",
       ".dataframe > thead > tr,\n",
       ".dataframe > tbody > tr {\n",
       "  text-align: right;\n",
       "  white-space: pre-wrap;\n",
       "}\n",
       "</style>\n",
       "<small>shape: (5, 6)</small><table border=\"1\" class=\"dataframe\"><thead><tr><th>investment_code</th><th>ticker_symbol</th><th>investment_name</th><th>inception_date</th><th>asset_class</th><th>country_code</th></tr><tr><td>str</td><td>str</td><td>str</td><td>str</td><td>str</td><td>str</td></tr></thead><tbody><tr><td>&quot;88bc6f46-1f74-4a80-9dd2-f7afe1…</td><td>&quot;AAVX&quot;</td><td>&quot;ETRACS Daily Short 1-Month S&amp;P…</td><td>&quot;9/8/2011&quot;</td><td>&quot;Alternatives&quot;</td><td>&quot;US&quot;</td></tr><tr><td>&quot;938eaff6-b51e-4530-9d45-242cad…</td><td>&quot;AGLS&quot;</td><td>&quot;Accuvest Global Long Short ETF&quot;</td><td>&quot;7/9/2010&quot;</td><td>&quot;Alternatives&quot;</td><td>&quot;US&quot;</td></tr><tr><td>&quot;e87337ff-9795-4702-b965-d59eba…</td><td>&quot;ALFA&quot;</td><td>&quot;AlphaClone Alternative Alpha E…</td><td>&quot;5/31/2012&quot;</td><td>&quot;Alternatives&quot;</td><td>&quot;US&quot;</td></tr><tr><td>&quot;a3646439-6d4e-4106-ab6f-d2075a…</td><td>&quot;ALT&quot;</td><td>&quot;Diversified Alternatives Trust&quot;</td><td>&quot;10/6/2009&quot;</td><td>&quot;Alternatives&quot;</td><td>&quot;US&quot;</td></tr><tr><td>&quot;624d15db-73bd-4685-af4f-9bf64a…</td><td>&quot;BBVX&quot;</td><td>&quot;ETRACS Daily Short 2-Month S&amp;P…</td><td>&quot;9/8/2011&quot;</td><td>&quot;Alternatives&quot;</td><td>&quot;US&quot;</td></tr></tbody></table></div>"
      ],
      "text/plain": [
       "shape: (5, 6)\n",
       "┌─────────────────┬───────────────┬─────────────────┬────────────────┬──────────────┬──────────────┐\n",
       "│ investment_code ┆ ticker_symbol ┆ investment_name ┆ inception_date ┆ asset_class  ┆ country_code │\n",
       "│ ---             ┆ ---           ┆ ---             ┆ ---            ┆ ---          ┆ ---          │\n",
       "│ str             ┆ str           ┆ str             ┆ str            ┆ str          ┆ str          │\n",
       "╞═════════════════╪═══════════════╪═════════════════╪════════════════╪══════════════╪══════════════╡\n",
       "│ 88bc6f46-1f74-4 ┆ AAVX          ┆ ETRACS Daily    ┆ 9/8/2011       ┆ Alternatives ┆ US           │\n",
       "│ a80-9dd2-f7afe1 ┆               ┆ Short 1-Month   ┆                ┆              ┆              │\n",
       "│ …               ┆               ┆ S&P…            ┆                ┆              ┆              │\n",
       "│ 938eaff6-b51e-4 ┆ AGLS          ┆ Accuvest Global ┆ 7/9/2010       ┆ Alternatives ┆ US           │\n",
       "│ 530-9d45-242cad ┆               ┆ Long Short ETF  ┆                ┆              ┆              │\n",
       "│ …               ┆               ┆                 ┆                ┆              ┆              │\n",
       "│ e87337ff-9795-4 ┆ ALFA          ┆ AlphaClone      ┆ 5/31/2012      ┆ Alternatives ┆ US           │\n",
       "│ 702-b965-d59eba ┆               ┆ Alternative     ┆                ┆              ┆              │\n",
       "│ …               ┆               ┆ Alpha E…        ┆                ┆              ┆              │\n",
       "│ a3646439-6d4e-4 ┆ ALT           ┆ Diversified     ┆ 10/6/2009      ┆ Alternatives ┆ US           │\n",
       "│ 106-ab6f-d2075a ┆               ┆ Alternatives    ┆                ┆              ┆              │\n",
       "│ …               ┆               ┆ Trust           ┆                ┆              ┆              │\n",
       "│ 624d15db-73bd-4 ┆ BBVX          ┆ ETRACS Daily    ┆ 9/8/2011       ┆ Alternatives ┆ US           │\n",
       "│ 685-af4f-9bf64a ┆               ┆ Short 2-Month   ┆                ┆              ┆              │\n",
       "│ …               ┆               ┆ S&P…            ┆                ┆              ┆              │\n",
       "└─────────────────┴───────────────┴─────────────────┴────────────────┴──────────────┴──────────────┘"
      ]
     },
     "execution_count": 36,
     "metadata": {},
     "output_type": "execute_result"
    }
   ],
   "source": [
    "n_gen = df['investment_code'].len()\n",
    "\n",
    "investment_code_list = [str(uuid.uuid4()) for _ in range(n_gen)]\n",
    "\n",
    "df = (\n",
    "    df\n",
    "    .with_columns(\n",
    "        pl.Series(investment_code_list).alias('investment_code')\n",
    "    )\n",
    ")\n",
    "\n",
    "df.head()"
   ]
  },
  {
   "cell_type": "code",
   "execution_count": null,
   "metadata": {},
   "outputs": [
    {
     "data": {
      "text/html": [
       "<div><style>\n",
       ".dataframe > thead > tr,\n",
       ".dataframe > tbody > tr {\n",
       "  text-align: right;\n",
       "  white-space: pre-wrap;\n",
       "}\n",
       "</style>\n",
       "<small>shape: (0, 6)</small><table border=\"1\" class=\"dataframe\"><thead><tr><th>investment_code</th><th>ticker_symbol</th><th>investment_name</th><th>inception_date</th><th>asset_class</th><th>country_code</th></tr><tr><td>str</td><td>str</td><td>str</td><td>str</td><td>str</td><td>str</td></tr></thead><tbody></tbody></table></div>"
      ],
      "text/plain": [
       "shape: (0, 6)\n",
       "┌─────────────────┬───────────────┬─────────────────┬────────────────┬─────────────┬──────────────┐\n",
       "│ investment_code ┆ ticker_symbol ┆ investment_name ┆ inception_date ┆ asset_class ┆ country_code │\n",
       "│ ---             ┆ ---           ┆ ---             ┆ ---            ┆ ---         ┆ ---          │\n",
       "│ str             ┆ str           ┆ str             ┆ str            ┆ str         ┆ str          │\n",
       "╞═════════════════╪═══════════════╪═════════════════╪════════════════╪═════════════╪══════════════╡\n",
       "└─────────────────┴───────────────┴─────────────────┴────────────────┴─────────────┴──────────────┘"
      ]
     },
     "execution_count": 45,
     "metadata": {},
     "output_type": "execute_result"
    }
   ],
   "source": [
    "# 重複チェック\n",
    "df.filter(pl.col('investment_code').is_duplicated())"
   ]
  },
  {
   "cell_type": "code",
   "execution_count": 37,
   "metadata": {},
   "outputs": [],
   "source": [
    "df.write_csv('../../data/investment_info.csv')"
   ]
  }
 ],
 "metadata": {
  "kernelspec": {
   "display_name": ".venv",
   "language": "python",
   "name": "python3"
  },
  "language_info": {
   "codemirror_mode": {
    "name": "ipython",
    "version": 3
   },
   "file_extension": ".py",
   "mimetype": "text/x-python",
   "name": "python",
   "nbconvert_exporter": "python",
   "pygments_lexer": "ipython3",
   "version": "3.13.2"
  }
 },
 "nbformat": 4,
 "nbformat_minor": 2
}
