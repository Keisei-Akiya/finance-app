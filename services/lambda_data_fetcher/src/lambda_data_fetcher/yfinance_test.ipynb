{
 "cells": [
  {
   "cell_type": "code",
   "execution_count": 3,
   "metadata": {},
   "outputs": [],
   "source": [
    "import os\n",
    "import time\n",
    "\n",
    "import pandas as pd\n",
    "import polars as pl\n",
    "import yfinance as yf\n",
    "from dotenv import load_dotenv\n",
    "from investment_info_fetcher import investment_info_fetcher\n",
    "\n",
    "# PostgreSQLへの接続情報\n",
    "load_dotenv()\n",
    "DB_HOST: str | None = os.getenv(\"DB_HOST\")\n",
    "DB_PORT: str | None = os.getenv(\"DB_PORT\")\n",
    "DB_USER: str | None = os.getenv(\"DB_USER\")\n",
    "DB_PASSWORD: str | None = os.getenv(\"DB_PASSWORD\")\n",
    "DB_NAME: str | None = os.getenv(\"DB_NAME\")"
   ]
  },
  {
   "cell_type": "code",
   "execution_count": 4,
   "metadata": {},
   "outputs": [],
   "source": [
    "df_investment_info: pl.DataFrame = investment_info_fetcher(DB_HOST, DB_PORT, DB_USER, DB_PASSWORD, DB_NAME)"
   ]
  },
  {
   "cell_type": "code",
   "execution_count": 47,
   "metadata": {},
   "outputs": [
    {
     "name": "stderr",
     "output_type": "stream",
     "text": [
      "[*********************100%***********************]  2 of 2 completed\n"
     ]
    },
    {
     "data": {
      "text/html": [
       "<div><style>\n",
       ".dataframe > thead > tr,\n",
       ".dataframe > tbody > tr {\n",
       "  text-align: right;\n",
       "  white-space: pre-wrap;\n",
       "}\n",
       "</style>\n",
       "<small>shape: (2, 4)</small><table border=\"1\" class=\"dataframe\"><thead><tr><th>date</th><th>VGK</th><th>VTI</th><th>Close</th></tr><tr><td>date</td><td>f64</td><td>f64</td><td>f64</td></tr></thead><tbody><tr><td>2024-03-15</td><td>0.37</td><td>0.0</td><td>148.296005</td></tr><tr><td>2024-12-20</td><td>0.719</td><td>0.0</td><td>157.643997</td></tr></tbody></table></div>"
      ],
      "text/plain": [
       "shape: (2, 4)\n",
       "┌────────────┬───────┬─────┬────────────┐\n",
       "│ date       ┆ VGK   ┆ VTI ┆ Close      │\n",
       "│ ---        ┆ ---   ┆ --- ┆ ---        │\n",
       "│ date       ┆ f64   ┆ f64 ┆ f64        │\n",
       "╞════════════╪═══════╪═════╪════════════╡\n",
       "│ 2024-03-15 ┆ 0.37  ┆ 0.0 ┆ 148.296005 │\n",
       "│ 2024-12-20 ┆ 0.719 ┆ 0.0 ┆ 157.643997 │\n",
       "└────────────┴───────┴─────┴────────────┘"
      ]
     },
     "execution_count": 47,
     "metadata": {},
     "output_type": "execute_result"
    }
   ],
   "source": [
    "yf_tickers = yf.Tickers(tickers=['VTI', 'VGK'])\n",
    "df_yf = yf_tickers.history(period='1y', interval='1d')['Dividends']\n",
    "\n",
    "df_yf = (\n",
    "    pl.DataFrame(df_yf.reset_index())\n",
    "    .rename({\"Date\": \"date\"})\n",
    "    .with_columns(pl.col(\"date\").cast(pl.Date))\n",
    ")\n",
    "\n",
    "yf_ticker = yf.Ticker('JPY=X')\n",
    "df_yf_jpy = yf_ticker.history(period='1y', interval='1d')['Close']\n",
    "\n",
    "df_yf_jpy = (\n",
    "    pl.DataFrame(df_yf_jpy.reset_index())\n",
    "    .rename({\"Date\": \"date\"})\n",
    "    .with_columns(pl.col(\"date\").cast(pl.Date))\n",
    ")\n",
    "\n",
    "df = df_yf.join(df_yf_jpy, on='date', how='inner')\n",
    "df.filter(pl.col('VGK') > 0)"
   ]
  }
 ],
 "metadata": {
  "kernelspec": {
   "display_name": ".venv",
   "language": "python",
   "name": "python3"
  },
  "language_info": {
   "codemirror_mode": {
    "name": "ipython",
    "version": 3
   },
   "file_extension": ".py",
   "mimetype": "text/x-python",
   "name": "python",
   "nbconvert_exporter": "python",
   "pygments_lexer": "ipython3",
   "version": "3.13.2"
  }
 },
 "nbformat": 4,
 "nbformat_minor": 2
}
