{
 "cells": [
  {
   "cell_type": "code",
   "execution_count": null,
   "metadata": {},
   "outputs": [],
   "source": [
    "import time\n",
    "\n",
    "import pandas as pd\n",
    "import polars as pl\n",
    "import yfinance as yf\n",
    "from modules.investment_info_fetcher import investment_info_fetcher\n",
    "from modules.get_environment_variable import get_environment_variable\n",
    "\n",
    "connection_config: dict[str, str | None] = get_environment_variable()"
   ]
  },
  {
   "cell_type": "code",
   "execution_count": 4,
   "metadata": {},
   "outputs": [],
   "source": [
    "df_investment_info: pl.DataFrame = investment_info_fetcher(DB_HOST, DB_PORT, DB_USER, DB_PASSWORD, DB_NAME)"
   ]
  },
  {
   "cell_type": "code",
   "execution_count": 47,
   "metadata": {},
   "outputs": [
    {
     "name": "stderr",
     "output_type": "stream",
     "text": [
      "[*********************100%***********************]  2 of 2 completed\n"
     ]
    },
    {
     "data": {
      "text/html": [
       "<div><style>\n",
       ".dataframe > thead > tr,\n",
       ".dataframe > tbody > tr {\n",
       "  text-align: right;\n",
       "  white-space: pre-wrap;\n",
       "}\n",
       "</style>\n",
       "<small>shape: (2, 4)</small><table border=\"1\" class=\"dataframe\"><thead><tr><th>date</th><th>VGK</th><th>VTI</th><th>Close</th></tr><tr><td>date</td><td>f64</td><td>f64</td><td>f64</td></tr></thead><tbody><tr><td>2024-03-15</td><td>0.37</td><td>0.0</td><td>148.296005</td></tr><tr><td>2024-12-20</td><td>0.719</td><td>0.0</td><td>157.643997</td></tr></tbody></table></div>"
      ],
      "text/plain": [
       "shape: (2, 4)\n",
       "┌────────────┬───────┬─────┬────────────┐\n",
       "│ date       ┆ VGK   ┆ VTI ┆ Close      │\n",
       "│ ---        ┆ ---   ┆ --- ┆ ---        │\n",
       "│ date       ┆ f64   ┆ f64 ┆ f64        │\n",
       "╞════════════╪═══════╪═════╪════════════╡\n",
       "│ 2024-03-15 ┆ 0.37  ┆ 0.0 ┆ 148.296005 │\n",
       "│ 2024-12-20 ┆ 0.719 ┆ 0.0 ┆ 157.643997 │\n",
       "└────────────┴───────┴─────┴────────────┘"
      ]
     },
     "execution_count": 47,
     "metadata": {},
     "output_type": "execute_result"
    }
   ],
   "source": [
    "yf_tickers = yf.Tickers(tickers=['VTI', 'VGK'])\n",
    "df_yf = yf_tickers.history(period='1y', interval='1d')['Dividends']\n",
    "\n",
    "df_yf = (\n",
    "    pl.DataFrame(df_yf.reset_index())\n",
    "    .rename({\"Date\": \"date\"})\n",
    "    .with_columns(pl.col(\"date\").cast(pl.Date))\n",
    ")\n",
    "\n",
    "yf_ticker = yf.Ticker('JPY=X')\n",
    "df_yf_jpy = yf_ticker.history(period='1y', interval='1d')['Close']\n",
    "\n",
    "df_yf_jpy = (\n",
    "    pl.DataFrame(df_yf_jpy.reset_index())\n",
    "    .rename({\"Date\": \"date\"})\n",
    "    .with_columns(pl.col(\"date\").cast(pl.Date))\n",
    ")\n",
    "\n",
    "df = df_yf.join(df_yf_jpy, on='date', how='inner')\n",
    "df.filter(pl.col('VGK') > 0)"
   ]
  },
  {
   "cell_type": "code",
   "execution_count": null,
   "metadata": {},
   "outputs": [
    {
     "name": "stdout",
     "output_type": "stream",
     "text": [
      "shape: (10_365, 2)\n",
      "┌────────────┬────────────┐\n",
      "│ date       ┆ Close      │\n",
      "│ ---        ┆ ---        │\n",
      "│ date       ┆ f64        │\n",
      "╞════════════╪════════════╡\n",
      "│ 1996-10-30 ┆ 114.18     │\n",
      "│ 1996-10-31 ┆ null       │\n",
      "│ 1996-11-01 ┆ 113.5      │\n",
      "│ 1996-11-02 ┆ null       │\n",
      "│ 1996-11-03 ┆ null       │\n",
      "│ …          ┆ …          │\n",
      "│ 2025-03-12 ┆ 148.042007 │\n",
      "│ 2025-03-13 ┆ 148.279007 │\n",
      "│ 2025-03-14 ┆ 147.949005 │\n",
      "│ 2025-03-15 ┆ null       │\n",
      "│ 2025-03-16 ┆ 148.610001 │\n",
      "└────────────┴────────────┘\n"
     ]
    },
    {
     "data": {
      "text/html": [
       "<div><style>\n",
       ".dataframe > thead > tr,\n",
       ".dataframe > tbody > tr {\n",
       "  text-align: right;\n",
       "  white-space: pre-wrap;\n",
       "}\n",
       "</style>\n",
       "<small>shape: (1, 2)</small><table border=\"1\" class=\"dataframe\"><thead><tr><th>date</th><th>Close</th></tr><tr><td>u32</td><td>u32</td></tr></thead><tbody><tr><td>0</td><td>0</td></tr></tbody></table></div>"
      ],
      "text/plain": [
       "shape: (1, 2)\n",
       "┌──────┬───────┐\n",
       "│ date ┆ Close │\n",
       "│ ---  ┆ ---   │\n",
       "│ u32  ┆ u32   │\n",
       "╞══════╪═══════╡\n",
       "│ 0    ┆ 0     │\n",
       "└──────┴───────┘"
      ]
     },
     "execution_count": 41,
     "metadata": {},
     "output_type": "execute_result"
    }
   ],
   "source": [
    "yf_ticker = yf.Ticker('JPY=X')\n",
    "exchange_rate = yf_ticker.history(period='max')['Close']\n",
    "df_exchange_rate = pl.DataFrame(exchange_rate.reset_index()).rename({\"Date\": \"date\"}).with_columns(pl.col(\"date\").cast(pl.Date))\n",
    "\n",
    "start_date = df_exchange_rate['date'].min()\n",
    "end_date = df_exchange_rate['date'].max()\n",
    "\n",
    "date_range = pd.date_range(start=start_date, end=end_date, freq='D')\n",
    "df_date = (\n",
    "    pl.DataFrame(date_range.to_numpy())\n",
    "    # 名前をつける\n",
    "    .rename({\"column_0\": \"date\"})\n",
    "    # 日付型に変換\n",
    "    .with_columns(pl.col(\"date\").cast(pl.Date))\n",
    ")\n",
    "df_date\n",
    "df_exchange_rate = df_date.join(df_exchange_rate, on='date', how='left')\n",
    "print(df_exchange_rate)\n",
    "df_exchange_rate.fill_null(strategy='forward')"
   ]
  }
 ],
 "metadata": {
  "kernelspec": {
   "display_name": ".venv",
   "language": "python",
   "name": "python3"
  },
  "language_info": {
   "codemirror_mode": {
    "name": "ipython",
    "version": 3
   },
   "file_extension": ".py",
   "mimetype": "text/x-python",
   "name": "python",
   "nbconvert_exporter": "python",
   "pygments_lexer": "ipython3",
   "version": "3.13.2"
  }
 },
 "nbformat": 4,
 "nbformat_minor": 2
}
